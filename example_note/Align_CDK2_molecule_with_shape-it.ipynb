{
 "cells": [
  {
   "cell_type": "markdown",
   "metadata": {},
   "source": [
    "## requirements\n",
    "- rdkit\n",
    "- py3Dmol"
   ]
  },
  {
   "cell_type": "code",
   "execution_count": 1,
   "metadata": {},
   "outputs": [],
   "source": [
    "import sys\n",
    "import os\n",
    "sys.path.append('../pyshapeit/')\n",
    "from rdkit import Chem\n",
    "from rdkit.Chem import AllChem\n",
    "from rdkit.Chem import Draw\n",
    "from rdkit.Chem.Draw import IPythonConsole\n",
    "from rdkit.Chem import RDConfig\n",
    "import py3Dmol"
   ]
  },
  {
   "cell_type": "code",
   "execution_count": 2,
   "metadata": {},
   "outputs": [],
   "source": [
    "import cpyshapeit"
   ]
  },
  {
   "cell_type": "code",
   "execution_count": 3,
   "metadata": {},
   "outputs": [],
   "source": [
    "mols = [m for m in Chem.SDMolSupplier(os.path.join(RDConfig.RDDocsDir,'Book/data/cdk2.sdf'))]"
   ]
  },
  {
   "cell_type": "code",
   "execution_count": 4,
   "metadata": {},
   "outputs": [
    {
     "data": {
      "image/png": "[encoded data removed]",
      "text/plain": [
       "<IPython.core.display.Image object>"
      ]
     },
     "execution_count": 4,
     "metadata": {},
     "output_type": "execute_result"
    }
   ],
   "source": [
    "Draw.MolsToGridImage(mols[:2])"
   ]
  },
  {
   "cell_type": "code",
   "execution_count": 5,
   "metadata": {},
   "outputs": [],
   "source": [
    "ref = Chem.Mol(mols[0])"
   ]
  },
  {
   "cell_type": "code",
   "execution_count": 6,
   "metadata": {},
   "outputs": [],
   "source": [
    "probe = mols[1]\n",
    "temp = Chem.Mol(mols[1])"
   ]
  },
  {
   "cell_type": "code",
   "execution_count": 7,
   "metadata": {},
   "outputs": [
    {
     "data": {
      "application/3dmoljs_load.v0": "<div id=\"3dmolviewer_16106017068422282\"  style=\"position: relative; width: 400px; height: 400px\">\n        <p id=\"3dmolwarning_16106017068422282\" style=\"background-color:#ffcccc;color:black\">You appear to be running in JupyterLab (or JavaScript failed to load for some other reason).  You need to install the 3dmol extension: <br>\n        <tt>jupyter labextension install jupyterlab_3dmol</tt></p>\n        </div>\n<script>\n\nvar loadScriptAsync = function(uri){\n  return new Promise((resolve, reject) => {\n    var tag = document.createElement('script');\n    tag.src = uri;\n    tag.async = true;\n    tag.onload = () => {\n      resolve();\n    };\n  var firstScriptTag = document.getElementsByTagName('script')[0];\n  firstScriptTag.parentNode.insertBefore(tag, firstScriptTag);\n});\n};\n\nif(typeof $3Dmolpromise === 'undefined') {\n$3Dmolpromise = null;\n  $3Dmolpromise = loadScriptAsync('https://3dmol.csb.pitt.edu/build/3Dmol.js');\n}\n\nvar viewer_16106017068422282 = null;\nvar warn = document.getElementById(\"3dmolwarning_16106017068422282\");\nif(warn) {\n    warn.parentNode.removeChild(warn);\n}\n$3Dmolpromise.then(function() {\nviewer_16106017068422282 = $3Dmol.createViewer($(\"#3dmolviewer_16106017068422282\"),{backgroundColor:\"white\"});\n\tviewer_16106017068422282.addModel(\"ZINC03814457\\n     RDKit          3D\\n\\n 17 18  0  0  1  0  0  0  0  0999 V2000\\n    5.4230   -0.4412    0.7616 C   0  0  0  0  0  0  0  0  0  0  0  0\\n    4.2434    0.3667    0.1880 C   0  0  0  0  0  0  0  0  0  0  0  0\\n    4.5978    0.9630   -1.1852 C   0  0  0  0  0  0  0  0  0  0  0  0\\n    2.9575   -0.4703    0.1074 C   0  0  0  0  0  0  0  0  0  0  0  0\\n    2.9988   -1.6999    0.0580 O   0  0  0  0  0  0  0  0  0  0  0  0\\n    1.6357    0.2975    0.0804 C   0  0  0  0  0  0  0  0  0  0  0  0\\n    0.5374   -0.6063    0.0692 O   0  0  0  0  0  0  0  0  0  0  0  0\\n   -0.7229   -0.0532    0.0310 C   0  0  0  0  0  0  0  0  0  0  0  0\\n   -1.8848   -0.8592   -0.0106 C   0  0  0  0  0  0  0  0  0  0  0  0\\n   -3.1098   -0.1432   -0.0466 C   0  0  0  0  0  0  0  0  0  0  0  0\\n   -4.0854   -1.1212   -0.0831 N   0  0  0  0  0  0  0  0  0  0  0  0\\n   -3.4330   -2.2959   -0.0687 C   0  0  0  0  0  0  0  0  0  0  0  0\\n   -2.1041   -2.2310   -0.0241 N   0  0  0  0  0  0  0  0  0  0  0  0\\n   -3.2721    1.2054   -0.0433 N   0  0  0  0  0  0  0  0  0  0  0  0\\n   -2.0919    1.8123   -0.0064 C   0  0  0  0  0  0  0  0  0  0  0  0\\n   -0.8677    1.2990    0.0350 N   0  0  0  0  0  0  0  0  0  0  0  0\\n   -2.1448    3.1672   -0.0074 N   0  0  0  0  0  0  0  0  0  0  0  0\\n  1  2  1  0\\n  2  3  1  0\\n  2  4  1  0\\n  4  5  2  0\\n  4  6  1  0\\n  6  7  1  0\\n  7  8  1  0\\n  8 16  2  0\\n  8  9  1  0\\n  9 13  1  0\\n  9 10  2  0\\n 10 11  1  0\\n 10 14  1  0\\n 11 12  1  0\\n 12 13  2  0\\n 14 15  2  0\\n 15 16  1  0\\n 15 17  1  0\\nM  END\\n\",\"sdf\");\n\tviewer_16106017068422282.addModel(\"ZINC03814459\\n     RDKit          3D\\n\\n 17 19  0  0  1  0  0  0  0  0999 V2000\\n    3.2069    2.4332    0.1683 C   0  0  0  0  0  0  0  0  0  0  0  0\\n    3.9680    1.3361    0.0191 N   0  0  0  0  0  0  0  0  0  0  0  0\\n    3.0936    0.2661   -0.0051 C   0  0  0  0  0  0  0  0  0  0  0  0\\n    1.8080    0.8502    0.1384 C   0  0  0  0  0  0  0  0  0  0  0  0\\n    1.8933    2.2332    0.2504 N   0  0  0  0  0  0  0  0  0  0  0  0\\n    0.7321   -0.0685    0.1386 C   0  0  0  0  0  0  0  0  0  0  0  0\\n    1.0086   -1.3940    0.0148 N   0  0  0  0  0  0  0  0  0  0  0  0\\n    2.2734   -1.7772   -0.1068 C   0  0  0  0  0  0  0  0  0  0  0  0\\n    3.3866   -1.0536   -0.1367 N   0  0  0  0  0  0  0  0  0  0  0  0\\n    2.4572   -3.1158   -0.2204 N   0  0  0  0  0  0  0  0  0  0  0  0\\n   -0.5735    0.3558    0.2686 O   0  0  0  0  0  0  0  0  0  0  0  0\\n   -1.5971   -0.6310    0.2422 C   0  0  0  0  0  0  0  0  0  0  0  0\\n   -2.9575    0.0650    0.3723 C   0  0  0  0  0  0  0  0  0  0  0  0\\n   -4.1165   -0.8888    0.6548 C   0  0  0  0  0  0  0  0  0  0  0  0\\n   -5.3322   -0.1496    0.1130 C   0  0  0  0  0  0  0  0  0  0  0  0\\n   -4.7364    0.9594   -0.7584 C   0  0  0  0  0  0  0  0  0  0  0  0\\n   -3.3578    0.6367   -0.8635 O   0  0  0  0  0  0  0  0  0  0  0  0\\n  1  5  2  0\\n  1  2  1  0\\n  2  3  1  0\\n  3  9  1  0\\n  3  4  2  0\\n  4  5  1  0\\n  4  6  1  0\\n  6  7  2  0\\n  6 11  1  0\\n  7  8  1  0\\n  8  9  2  0\\n  8 10  1  0\\n 11 12  1  0\\n 12 13  1  0\\n 13 17  1  0\\n 13 14  1  0\\n 14 15  1  0\\n 15 16  1  0\\n 16 17  1  0\\nM  END\\n\",\"sdf\");\n\tviewer_16106017068422282.setStyle({\"stick\": {}});\n\tviewer_16106017068422282.setBackgroundColor(\"0xeeeeee\");\nviewer_16106017068422282.render();\n});\n</script>",
      "text/html": [
       "<div id=\"3dmolviewer_16106017068422282\"  style=\"position: relative; width: 400px; height: 400px\">\n",
       "        <p id=\"3dmolwarning_16106017068422282\" style=\"background-color:#ffcccc;color:black\">You appear to be running in JupyterLab (or JavaScript failed to load for some other reason).  You need to install the 3dmol extension: <br>\n",
       "        <tt>jupyter labextension install jupyterlab_3dmol</tt></p>\n",
       "        </div>\n",
       "<script>\n",
       "\n",
       "var loadScriptAsync = function(uri){\n",
       "  return new Promise((resolve, reject) => {\n",
       "    var tag = document.createElement('script');\n",
       "    tag.src = uri;\n",
       "    tag.async = true;\n",
       "    tag.onload = () => {\n",
       "      resolve();\n",
       "    };\n",
       "  var firstScriptTag = document.getElementsByTagName('script')[0];\n",
       "  firstScriptTag.parentNode.insertBefore(tag, firstScriptTag);\n",
       "});\n",
       "};\n",
       "\n",
       "if(typeof $3Dmolpromise === 'undefined') {\n",
       "$3Dmolpromise = null;\n",
       "  $3Dmolpromise = loadScriptAsync('https://3dmol.csb.pitt.edu/build/3Dmol.js');\n",
       "}\n",
       "\n",
       "var viewer_16106017068422282 = null;\n",
       "var warn = document.getElementById(\"3dmolwarning_16106017068422282\");\n",
       "if(warn) {\n",
       "    warn.parentNode.removeChild(warn);\n",
       "}\n",
       "$3Dmolpromise.then(function() {\n",
       "viewer_16106017068422282 = $3Dmol.createViewer($(\"#3dmolviewer_16106017068422282\"),{backgroundColor:\"white\"});\n",
       "\tviewer_16106017068422282.addModel(\"ZINC03814457\\n     RDKit          3D\\n\\n 17 18  0  0  1  0  0  0  0  0999 V2000\\n    5.4230   -0.4412    0.7616 C   0  0  0  0  0  0  0  0  0  0  0  0\\n    4.2434    0.3667    0.1880 C   0  0  0  0  0  0  0  0  0  0  0  0\\n    4.5978    0.9630   -1.1852 C   0  0  0  0  0  0  0  0  0  0  0  0\\n    2.9575   -0.4703    0.1074 C   0  0  0  0  0  0  0  0  0  0  0  0\\n    2.9988   -1.6999    0.0580 O   0  0  0  0  0  0  0  0  0  0  0  0\\n    1.6357    0.2975    0.0804 C   0  0  0  0  0  0  0  0  0  0  0  0\\n    0.5374   -0.6063    0.0692 O   0  0  0  0  0  0  0  0  0  0  0  0\\n   -0.7229   -0.0532    0.0310 C   0  0  0  0  0  0  0  0  0  0  0  0\\n   -1.8848   -0.8592   -0.0106 C   0  0  0  0  0  0  0  0  0  0  0  0\\n   -3.1098   -0.1432   -0.0466 C   0  0  0  0  0  0  0  0  0  0  0  0\\n   -4.0854   -1.1212   -0.0831 N   0  0  0  0  0  0  0  0  0  0  0  0\\n   -3.4330   -2.2959   -0.0687 C   0  0  0  0  0  0  0  0  0  0  0  0\\n   -2.1041   -2.2310   -0.0241 N   0  0  0  0  0  0  0  0  0  0  0  0\\n   -3.2721    1.2054   -0.0433 N   0  0  0  0  0  0  0  0  0  0  0  0\\n   -2.0919    1.8123   -0.0064 C   0  0  0  0  0  0  0  0  0  0  0  0\\n   -0.8677    1.2990    0.0350 N   0  0  0  0  0  0  0  0  0  0  0  0\\n   -2.1448    3.1672   -0.0074 N   0  0  0  0  0  0  0  0  0  0  0  0\\n  1  2  1  0\\n  2  3  1  0\\n  2  4  1  0\\n  4  5  2  0\\n  4  6  1  0\\n  6  7  1  0\\n  7  8  1  0\\n  8 16  2  0\\n  8  9  1  0\\n  9 13  1  0\\n  9 10  2  0\\n 10 11  1  0\\n 10 14  1  0\\n 11 12  1  0\\n 12 13  2  0\\n 14 15  2  0\\n 15 16  1  0\\n 15 17  1  0\\nM  END\\n\",\"sdf\");\n",
       "\tviewer_16106017068422282.addModel(\"ZINC03814459\\n     RDKit          3D\\n\\n 17 19  0  0  1  0  0  0  0  0999 V2000\\n    3.2069    2.4332    0.1683 C   0  0  0  0  0  0  0  0  0  0  0  0\\n    3.9680    1.3361    0.0191 N   0  0  0  0  0  0  0  0  0  0  0  0\\n    3.0936    0.2661   -0.0051 C   0  0  0  0  0  0  0  0  0  0  0  0\\n    1.8080    0.8502    0.1384 C   0  0  0  0  0  0  0  0  0  0  0  0\\n    1.8933    2.2332    0.2504 N   0  0  0  0  0  0  0  0  0  0  0  0\\n    0.7321   -0.0685    0.1386 C   0  0  0  0  0  0  0  0  0  0  0  0\\n    1.0086   -1.3940    0.0148 N   0  0  0  0  0  0  0  0  0  0  0  0\\n    2.2734   -1.7772   -0.1068 C   0  0  0  0  0  0  0  0  0  0  0  0\\n    3.3866   -1.0536   -0.1367 N   0  0  0  0  0  0  0  0  0  0  0  0\\n    2.4572   -3.1158   -0.2204 N   0  0  0  0  0  0  0  0  0  0  0  0\\n   -0.5735    0.3558    0.2686 O   0  0  0  0  0  0  0  0  0  0  0  0\\n   -1.5971   -0.6310    0.2422 C   0  0  0  0  0  0  0  0  0  0  0  0\\n   -2.9575    0.0650    0.3723 C   0  0  0  0  0  0  0  0  0  0  0  0\\n   -4.1165   -0.8888    0.6548 C   0  0  0  0  0  0  0  0  0  0  0  0\\n   -5.3322   -0.1496    0.1130 C   0  0  0  0  0  0  0  0  0  0  0  0\\n   -4.7364    0.9594   -0.7584 C   0  0  0  0  0  0  0  0  0  0  0  0\\n   -3.3578    0.6367   -0.8635 O   0  0  0  0  0  0  0  0  0  0  0  0\\n  1  5  2  0\\n  1  2  1  0\\n  2  3  1  0\\n  3  9  1  0\\n  3  4  2  0\\n  4  5  1  0\\n  4  6  1  0\\n  6  7  2  0\\n  6 11  1  0\\n  7  8  1  0\\n  8  9  2  0\\n  8 10  1  0\\n 11 12  1  0\\n 12 13  1  0\\n 13 17  1  0\\n 13 14  1  0\\n 14 15  1  0\\n 15 16  1  0\\n 16 17  1  0\\nM  END\\n\",\"sdf\");\n",
       "\tviewer_16106017068422282.setStyle({\"stick\": {}});\n",
       "\tviewer_16106017068422282.setBackgroundColor(\"0xeeeeee\");\n",
       "viewer_16106017068422282.render();\n",
       "});\n",
       "</script>"
      ]
     },
     "metadata": {},
     "output_type": "display_data"
    }
   ],
   "source": [
    "# draw molecules before alignment\n",
    "p = py3Dmol.view(width=400,height=400)\n",
    "p.addModel(Chem.MolToMolBlock(ref), 'sdf')\n",
    "p.addModel(Chem.MolToMolBlock(probe), 'sdf')\n",
    "p.setStyle({'stick':{}})\n",
    "p.setBackgroundColor('0xeeeeee')\n",
    "p.show()"
   ]
  },
  {
   "cell_type": "code",
   "execution_count": 8,
   "metadata": {},
   "outputs": [
    {
     "name": "stdout",
     "output_type": "stream",
     "text": [
      "0.7750470464618044\n"
     ]
    }
   ],
   "source": [
    "score = cpyshapeit.AlignMol(ref, temp)\n",
    "print(score)"
   ]
  },
  {
   "cell_type": "code",
   "execution_count": 9,
   "metadata": {},
   "outputs": [
    {
     "data": {
      "application/3dmoljs_load.v0": "<div id=\"3dmolviewer_16106017087237983\"  style=\"position: relative; width: 400px; height: 400px\">\n        <p id=\"3dmolwarning_16106017087237983\" style=\"background-color:#ffcccc;color:black\">You appear to be running in JupyterLab (or JavaScript failed to load for some other reason).  You need to install the 3dmol extension: <br>\n        <tt>jupyter labextension install jupyterlab_3dmol</tt></p>\n        </div>\n<script>\n\nvar loadScriptAsync = function(uri){\n  return new Promise((resolve, reject) => {\n    var tag = document.createElement('script');\n    tag.src = uri;\n    tag.async = true;\n    tag.onload = () => {\n      resolve();\n    };\n  var firstScriptTag = document.getElementsByTagName('script')[0];\n  firstScriptTag.parentNode.insertBefore(tag, firstScriptTag);\n});\n};\n\nif(typeof $3Dmolpromise === 'undefined') {\n$3Dmolpromise = null;\n  $3Dmolpromise = loadScriptAsync('https://3dmol.csb.pitt.edu/build/3Dmol.js');\n}\n\nvar viewer_16106017087237983 = null;\nvar warn = document.getElementById(\"3dmolwarning_16106017087237983\");\nif(warn) {\n    warn.parentNode.removeChild(warn);\n}\n$3Dmolpromise.then(function() {\nviewer_16106017087237983 = $3Dmol.createViewer($(\"#3dmolviewer_16106017087237983\"),{backgroundColor:\"white\"});\n\tviewer_16106017087237983.addModel(\"ZINC03814457\\n     RDKit          3D\\n\\n 17 18  0  0  1  0  0  0  0  0999 V2000\\n    5.4230   -0.4412    0.7616 C   0  0  0  0  0  0  0  0  0  0  0  0\\n    4.2434    0.3667    0.1880 C   0  0  0  0  0  0  0  0  0  0  0  0\\n    4.5978    0.9630   -1.1852 C   0  0  0  0  0  0  0  0  0  0  0  0\\n    2.9575   -0.4703    0.1074 C   0  0  0  0  0  0  0  0  0  0  0  0\\n    2.9988   -1.6999    0.0580 O   0  0  0  0  0  0  0  0  0  0  0  0\\n    1.6357    0.2975    0.0804 C   0  0  0  0  0  0  0  0  0  0  0  0\\n    0.5374   -0.6063    0.0692 O   0  0  0  0  0  0  0  0  0  0  0  0\\n   -0.7229   -0.0532    0.0310 C   0  0  0  0  0  0  0  0  0  0  0  0\\n   -1.8848   -0.8592   -0.0106 C   0  0  0  0  0  0  0  0  0  0  0  0\\n   -3.1098   -0.1432   -0.0466 C   0  0  0  0  0  0  0  0  0  0  0  0\\n   -4.0854   -1.1212   -0.0831 N   0  0  0  0  0  0  0  0  0  0  0  0\\n   -3.4330   -2.2959   -0.0687 C   0  0  0  0  0  0  0  0  0  0  0  0\\n   -2.1041   -2.2310   -0.0241 N   0  0  0  0  0  0  0  0  0  0  0  0\\n   -3.2721    1.2054   -0.0433 N   0  0  0  0  0  0  0  0  0  0  0  0\\n   -2.0919    1.8123   -0.0064 C   0  0  0  0  0  0  0  0  0  0  0  0\\n   -0.8677    1.2990    0.0350 N   0  0  0  0  0  0  0  0  0  0  0  0\\n   -2.1448    3.1672   -0.0074 N   0  0  0  0  0  0  0  0  0  0  0  0\\n  1  2  1  0\\n  2  3  1  0\\n  2  4  1  0\\n  4  5  2  0\\n  4  6  1  0\\n  6  7  1  0\\n  7  8  1  0\\n  8 16  2  0\\n  8  9  1  0\\n  9 13  1  0\\n  9 10  2  0\\n 10 11  1  0\\n 10 14  1  0\\n 11 12  1  0\\n 12 13  2  0\\n 14 15  2  0\\n 15 16  1  0\\n 15 17  1  0\\nM  END\\n\",\"sdf\");\n\tviewer_16106017087237983.addModel(\"ZINC03814459\\n     RDKit          3D\\n\\n 17 19  0  0  1  0  0  0  0  0999 V2000\\n   -2.8309   -2.3137   -0.0513 C   0  0  0  0  0  0  0  0  0  0  0  0\\n   -3.5298   -1.1685   -0.1236 N   0  0  0  0  0  0  0  0  0  0  0  0\\n   -2.5975   -0.1494   -0.0761 C   0  0  0  0  0  0  0  0  0  0  0  0\\n   -1.3465   -0.8121    0.0246 C   0  0  0  0  0  0  0  0  0  0  0  0\\n   -1.5084   -2.1927    0.0418 N   0  0  0  0  0  0  0  0  0  0  0  0\\n   -0.2214    0.0435    0.0856 C   0  0  0  0  0  0  0  0  0  0  0  0\\n   -0.4239    1.3876    0.0533 N   0  0  0  0  0  0  0  0  0  0  0  0\\n   -1.6653    1.8476   -0.0393 C   0  0  0  0  0  0  0  0  0  0  0  0\\n   -2.8168    1.1904   -0.1165 N   0  0  0  0  0  0  0  0  0  0  0  0\\n   -1.7746    3.1989   -0.0607 N   0  0  0  0  0  0  0  0  0  0  0  0\\n    1.0585   -0.4603    0.1837 O   0  0  0  0  0  0  0  0  0  0  0  0\\n    2.1351    0.4678    0.2230 C   0  0  0  0  0  0  0  0  0  0  0  0\\n    3.4547   -0.3096    0.3025 C   0  0  0  0  0  0  0  0  0  0  0  0\\n    4.6642    0.5570    0.6474 C   0  0  0  0  0  0  0  0  0  0  0  0\\n    5.8381   -0.2095    0.0539 C   0  0  0  0  0  0  0  0  0  0  0  0\\n    5.1835   -1.2216   -0.8902 C   0  0  0  0  0  0  0  0  0  0  0  0\\n    3.8251   -0.8167   -0.9703 O   0  0  0  0  0  0  0  0  0  0  0  0\\n  1  5  2  0\\n  1  2  1  0\\n  2  3  1  0\\n  3  9  1  0\\n  3  4  2  0\\n  4  5  1  0\\n  4  6  1  0\\n  6  7  2  0\\n  6 11  1  0\\n  7  8  1  0\\n  8  9  2  0\\n  8 10  1  0\\n 11 12  1  0\\n 12 13  1  0\\n 13 17  1  0\\n 13 14  1  0\\n 14 15  1  0\\n 15 16  1  0\\n 16 17  1  0\\nM  END\\n\",\"sdf\");\n\tviewer_16106017087237983.setStyle({\"stick\": {}});\n\tviewer_16106017087237983.setBackgroundColor(\"0xeeeeee\");\nviewer_16106017087237983.render();\n});\n</script>",
      "text/html": [
       "<div id=\"3dmolviewer_16106017087237983\"  style=\"position: relative; width: 400px; height: 400px\">\n",
       "        <p id=\"3dmolwarning_16106017087237983\" style=\"background-color:#ffcccc;color:black\">You appear to be running in JupyterLab (or JavaScript failed to load for some other reason).  You need to install the 3dmol extension: <br>\n",
       "        <tt>jupyter labextension install jupyterlab_3dmol</tt></p>\n",
       "        </div>\n",
       "<script>\n",
       "\n",
       "var loadScriptAsync = function(uri){\n",
       "  return new Promise((resolve, reject) => {\n",
       "    var tag = document.createElement('script');\n",
       "    tag.src = uri;\n",
       "    tag.async = true;\n",
       "    tag.onload = () => {\n",
       "      resolve();\n",
       "    };\n",
       "  var firstScriptTag = document.getElementsByTagName('script')[0];\n",
       "  firstScriptTag.parentNode.insertBefore(tag, firstScriptTag);\n",
       "});\n",
       "};\n",
       "\n",
       "if(typeof $3Dmolpromise === 'undefined') {\n",
       "$3Dmolpromise = null;\n",
       "  $3Dmolpromise = loadScriptAsync('https://3dmol.csb.pitt.edu/build/3Dmol.js');\n",
       "}\n",
       "\n",
       "var viewer_16106017087237983 = null;\n",
       "var warn = document.getElementById(\"3dmolwarning_16106017087237983\");\n",
       "if(warn) {\n",
       "    warn.parentNode.removeChild(warn);\n",
       "}\n",
       "$3Dmolpromise.then(function() {\n",
       "viewer_16106017087237983 = $3Dmol.createViewer($(\"#3dmolviewer_16106017087237983\"),{backgroundColor:\"white\"});\n",
       "\tviewer_16106017087237983.addModel(\"ZINC03814457\\n     RDKit          3D\\n\\n 17 18  0  0  1  0  0  0  0  0999 V2000\\n    5.4230   -0.4412    0.7616 C   0  0  0  0  0  0  0  0  0  0  0  0\\n    4.2434    0.3667    0.1880 C   0  0  0  0  0  0  0  0  0  0  0  0\\n    4.5978    0.9630   -1.1852 C   0  0  0  0  0  0  0  0  0  0  0  0\\n    2.9575   -0.4703    0.1074 C   0  0  0  0  0  0  0  0  0  0  0  0\\n    2.9988   -1.6999    0.0580 O   0  0  0  0  0  0  0  0  0  0  0  0\\n    1.6357    0.2975    0.0804 C   0  0  0  0  0  0  0  0  0  0  0  0\\n    0.5374   -0.6063    0.0692 O   0  0  0  0  0  0  0  0  0  0  0  0\\n   -0.7229   -0.0532    0.0310 C   0  0  0  0  0  0  0  0  0  0  0  0\\n   -1.8848   -0.8592   -0.0106 C   0  0  0  0  0  0  0  0  0  0  0  0\\n   -3.1098   -0.1432   -0.0466 C   0  0  0  0  0  0  0  0  0  0  0  0\\n   -4.0854   -1.1212   -0.0831 N   0  0  0  0  0  0  0  0  0  0  0  0\\n   -3.4330   -2.2959   -0.0687 C   0  0  0  0  0  0  0  0  0  0  0  0\\n   -2.1041   -2.2310   -0.0241 N   0  0  0  0  0  0  0  0  0  0  0  0\\n   -3.2721    1.2054   -0.0433 N   0  0  0  0  0  0  0  0  0  0  0  0\\n   -2.0919    1.8123   -0.0064 C   0  0  0  0  0  0  0  0  0  0  0  0\\n   -0.8677    1.2990    0.0350 N   0  0  0  0  0  0  0  0  0  0  0  0\\n   -2.1448    3.1672   -0.0074 N   0  0  0  0  0  0  0  0  0  0  0  0\\n  1  2  1  0\\n  2  3  1  0\\n  2  4  1  0\\n  4  5  2  0\\n  4  6  1  0\\n  6  7  1  0\\n  7  8  1  0\\n  8 16  2  0\\n  8  9  1  0\\n  9 13  1  0\\n  9 10  2  0\\n 10 11  1  0\\n 10 14  1  0\\n 11 12  1  0\\n 12 13  2  0\\n 14 15  2  0\\n 15 16  1  0\\n 15 17  1  0\\nM  END\\n\",\"sdf\");\n",
       "\tviewer_16106017087237983.addModel(\"ZINC03814459\\n     RDKit          3D\\n\\n 17 19  0  0  1  0  0  0  0  0999 V2000\\n   -2.8309   -2.3137   -0.0513 C   0  0  0  0  0  0  0  0  0  0  0  0\\n   -3.5298   -1.1685   -0.1236 N   0  0  0  0  0  0  0  0  0  0  0  0\\n   -2.5975   -0.1494   -0.0761 C   0  0  0  0  0  0  0  0  0  0  0  0\\n   -1.3465   -0.8121    0.0246 C   0  0  0  0  0  0  0  0  0  0  0  0\\n   -1.5084   -2.1927    0.0418 N   0  0  0  0  0  0  0  0  0  0  0  0\\n   -0.2214    0.0435    0.0856 C   0  0  0  0  0  0  0  0  0  0  0  0\\n   -0.4239    1.3876    0.0533 N   0  0  0  0  0  0  0  0  0  0  0  0\\n   -1.6653    1.8476   -0.0393 C   0  0  0  0  0  0  0  0  0  0  0  0\\n   -2.8168    1.1904   -0.1165 N   0  0  0  0  0  0  0  0  0  0  0  0\\n   -1.7746    3.1989   -0.0607 N   0  0  0  0  0  0  0  0  0  0  0  0\\n    1.0585   -0.4603    0.1837 O   0  0  0  0  0  0  0  0  0  0  0  0\\n    2.1351    0.4678    0.2230 C   0  0  0  0  0  0  0  0  0  0  0  0\\n    3.4547   -0.3096    0.3025 C   0  0  0  0  0  0  0  0  0  0  0  0\\n    4.6642    0.5570    0.6474 C   0  0  0  0  0  0  0  0  0  0  0  0\\n    5.8381   -0.2095    0.0539 C   0  0  0  0  0  0  0  0  0  0  0  0\\n    5.1835   -1.2216   -0.8902 C   0  0  0  0  0  0  0  0  0  0  0  0\\n    3.8251   -0.8167   -0.9703 O   0  0  0  0  0  0  0  0  0  0  0  0\\n  1  5  2  0\\n  1  2  1  0\\n  2  3  1  0\\n  3  9  1  0\\n  3  4  2  0\\n  4  5  1  0\\n  4  6  1  0\\n  6  7  2  0\\n  6 11  1  0\\n  7  8  1  0\\n  8  9  2  0\\n  8 10  1  0\\n 11 12  1  0\\n 12 13  1  0\\n 13 17  1  0\\n 13 14  1  0\\n 14 15  1  0\\n 15 16  1  0\\n 16 17  1  0\\nM  END\\n\",\"sdf\");\n",
       "\tviewer_16106017087237983.setStyle({\"stick\": {}});\n",
       "\tviewer_16106017087237983.setBackgroundColor(\"0xeeeeee\");\n",
       "viewer_16106017087237983.render();\n",
       "});\n",
       "</script>"
      ]
     },
     "metadata": {},
     "output_type": "display_data"
    }
   ],
   "source": [
    "# draw molecules after alignment\n",
    "p = py3Dmol.view(width=400,height=400)\n",
    "p.addModel(Chem.MolToMolBlock(ref), 'sdf')\n",
    "p.addModel(Chem.MolToMolBlock(temp), 'sdf')\n",
    "p.setStyle({'stick':{}})\n",
    "p.setBackgroundColor('0xeeeeee')\n",
    "p.show()"
   ]
  },
  {
   "cell_type": "code",
   "execution_count": null,
   "metadata": {},
   "outputs": [],
   "source": []
  }
 ],
 "metadata": {
  "kernelspec": {
   "display_name": "Python 3",
   "language": "python",
   "name": "python3"
  },
  "language_info": {
   "codemirror_mode": {
    "name": "ipython",
    "version": 3
   },
   "file_extension": ".py",
   "mimetype": "text/x-python",
   "name": "python",
   "nbconvert_exporter": "python",
   "pygments_lexer": "ipython3",
   "version": "3.7.9"
  }
 },
 "nbformat": 4,
 "nbformat_minor": 4
}
